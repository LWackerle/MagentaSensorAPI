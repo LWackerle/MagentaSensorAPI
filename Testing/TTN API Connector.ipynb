{
 "cells": [
  {
   "cell_type": "code",
   "execution_count": 28,
   "metadata": {},
   "outputs": [],
   "source": [
    "import time\n",
    "import paho.mqtt.client as mqtt"
   ]
  },
  {
   "cell_type": "code",
   "execution_count": 29,
   "metadata": {},
   "outputs": [],
   "source": [
    "## Initialise Mosquitto\n",
    "# !brew services start mosquitto"
   ]
  },
  {
   "cell_type": "code",
   "execution_count": 14,
   "metadata": {},
   "outputs": [
    {
     "name": "stdout",
     "output_type": "stream",
     "text": [
      "^C\r\n"
     ]
    }
   ],
   "source": [
    "!mosquitto_sub -h eu.thethings.network -t 'magentadesktestsetup/devices/testdevice/up' -u 'magentadesktestsetup' -P 'ttn-account-v2.O1YWpxbTkL0r3E9q2Eu-PyghSeiW_E1tfF-hLDr-v2g' -v # '{\"payload_fields\":{\"led\":true}}'\n",
    "#mosquitto_sub -h <Region>.thethings.network -t '+/devices/+/events/activations' -u '<AppID>' -P '<AppKey>' -v\n",
    "\n"
   ]
  },
  {
   "cell_type": "code",
   "execution_count": 32,
   "metadata": {
    "scrolled": false
   },
   "outputs": [
    {
     "name": "stdout",
     "output_type": "stream",
     "text": [
      "it worked!\n",
      "it worked!\n"
     ]
    }
   ],
   "source": [
    "client = mqtt.Client('test')\n",
    "client.username_pw_set('magentadesktestsetup', password= 'ttn-account-v2.O1YWpxbTkL0r3E9q2Eu-PyghSeiW_E1tfF-hLDr-v2g')\n",
    "client.connect('eu.thethings.network')\n",
    "\n",
    "client.subscribe(\"magentadesktestsetup/devices/testdevice/up\")\n",
    "\n",
    "\n",
    "def on_message(client, userdata, message):\n",
    "    print('it worked!')\n",
    "    \n",
    "client.on_message = on_message\n",
    "\n",
    "client.loop_start()"
   ]
  },
  {
   "cell_type": "code",
   "execution_count": null,
   "metadata": {},
   "outputs": [],
   "source": []
  }
 ],
 "metadata": {
  "kernelspec": {
   "display_name": "Python [conda env:py3]",
   "language": "python",
   "name": "conda-env-py3-py"
  },
  "language_info": {
   "codemirror_mode": {
    "name": "ipython",
    "version": 3
   },
   "file_extension": ".py",
   "mimetype": "text/x-python",
   "name": "python",
   "nbconvert_exporter": "python",
   "pygments_lexer": "ipython3",
   "version": "3.7.6"
  }
 },
 "nbformat": 4,
 "nbformat_minor": 4
}
