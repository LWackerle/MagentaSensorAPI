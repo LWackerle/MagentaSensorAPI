{
 "cells": [
  {
   "cell_type": "code",
   "execution_count": 10,
   "metadata": {},
   "outputs": [],
   "source": [
    "import time\n",
    "# discontinoued import ttn\n",
    "import paho\n",
    "#import "
   ]
  },
  {
   "cell_type": "code",
   "execution_count": 7,
   "metadata": {},
   "outputs": [],
   "source": [
    "# !brew services start mosquitto"
   ]
  },
  {
   "cell_type": "code",
   "execution_count": 8,
   "metadata": {},
   "outputs": [
    {
     "name": "stdout",
     "output_type": "stream",
     "text": [
      "Error: Unknown option '-m'.\r\n",
      "\r\n",
      "Use 'mosquitto_sub --help' to see usage.\r\n"
     ]
    }
   ],
   "source": [
    "!mosquitto_sub -h eu.thethings.network -t 'magentadesktestsetup/devices/testdevice/down' -u 'magentadesktestsetup' -P '{ 0xC6, 0x3A, 0x6C, 0xC6, 0x0E, 0xE9, 0x14, 0xC5, 0x89, 0x2F, 0x21, 0x54, 0xBF, 0x53, 0x89, 0xB3 }' -m '{\"payload_fields\":{\"led\":true}}'\n"
   ]
  },
  {
   "cell_type": "code",
   "execution_count": 3,
   "metadata": {},
   "outputs": [
    {
     "name": "stdout",
     "output_type": "stream",
     "text": [
      "Connection error: Connection Refused: not authorised.\r\n"
     ]
    }
   ],
   "source": [
    "!mosquitto_sub -h eu.thethings.network -t '+/devices/+/events/activations' -u 'magentadesktestsetup' -P 'B38953BF54212F89C514E90EC66C3AC6'  -v --cafile mqtt-ca.pem -p 8883\n",
    "\n",
    "\n",
    "\n",
    "\n",
    "\n",
    "\n",
    "\n",
    "\n"
   ]
  },
  {
   "cell_type": "code",
   "execution_count": 4,
   "metadata": {},
   "outputs": [
    {
     "name": "stdout",
     "output_type": "stream",
     "text": [
      "Error: Connection refused\r\n"
     ]
    }
   ],
   "source": [
    "!mosquitto_pub -d -t hello/world -m \"Hello from Terminal window 2!\""
   ]
  },
  {
   "cell_type": "code",
   "execution_count": 11,
   "metadata": {},
   "outputs": [
    {
     "ename": "NameError",
     "evalue": "name 'MQTTClient' is not defined",
     "output_type": "error",
     "traceback": [
      "\u001b[0;31m---------------------------------------------------------------------------\u001b[0m",
      "\u001b[0;31mNameError\u001b[0m                                 Traceback (most recent call last)",
      "\u001b[0;32m<ipython-input-11-b30f7d9b68e7>\u001b[0m in \u001b[0;36m<module>\u001b[0;34m\u001b[0m\n\u001b[1;32m      3\u001b[0m \u001b[0;34m\u001b[0m\u001b[0m\n\u001b[1;32m      4\u001b[0m \u001b[0;34m\u001b[0m\u001b[0m\n\u001b[0;32m----> 5\u001b[0;31m \u001b[0mMQTTClient\u001b[0m\u001b[0;34m(\u001b[0m\u001b[0mapp_id\u001b[0m\u001b[0;34m,\u001b[0m \u001b[0maccess_key\u001b[0m\u001b[0;34m,\u001b[0m \u001b[0mmqtt_address\u001b[0m\u001b[0;34m=\u001b[0m\u001b[0;34m\"\"\u001b[0m\u001b[0;34m,\u001b[0m \u001b[0mdiscovery_address\u001b[0m\u001b[0;34m=\u001b[0m\u001b[0;34m\"discovery.thethings.network:1900\"\u001b[0m\u001b[0;34m)\u001b[0m\u001b[0;34m\u001b[0m\u001b[0;34m\u001b[0m\u001b[0m\n\u001b[0m\u001b[1;32m      6\u001b[0m \u001b[0;34m\u001b[0m\u001b[0m\n\u001b[1;32m      7\u001b[0m \u001b[0;32mdef\u001b[0m \u001b[0muplink_callback\u001b[0m\u001b[0;34m(\u001b[0m\u001b[0mmsg\u001b[0m\u001b[0;34m,\u001b[0m \u001b[0mclient\u001b[0m\u001b[0;34m)\u001b[0m\u001b[0;34m:\u001b[0m\u001b[0;34m\u001b[0m\u001b[0;34m\u001b[0m\u001b[0m\n",
      "\u001b[0;31mNameError\u001b[0m: name 'MQTTClient' is not defined"
     ]
    }
   ],
   "source": [
    "app_id = \"magentadesktestsetup\"\n",
    "access_key = \"ttn-account-v2.IOZKOg1QyBgkdXXmaegdgXYqFl-Bo9sZMKE1FZJoOZ8\"\n",
    " \n",
    "\n",
    "MQTTClient(app_id, access_key, mqtt_address=\"\", discovery_address=\"discovery.thethings.network:1900\")\n",
    "\n",
    "def uplink_callback(msg, client):\n",
    "  print(\"Received uplink from \", msg.dev_id)\n",
    "  print(msg)\n",
    "\n",
    "handler = ttn.HandlerClient(app_id, access_key)\n",
    "\n",
    "# using mqtt client\n",
    "mqtt_client = handler.data()\n",
    "mqtt_client.set_uplink_callback(uplink_callback)\n",
    "mqtt_client.connect()\n",
    "time.sleep(60)\n",
    "mqtt_client.close()\n",
    "\n",
    "# using application manager client\n",
    "app_client =  handler.application()\n",
    "my_app = app_client.get()\n",
    "print(my_app)\n",
    "my_devices = app_client.devices()\n",
    "print(my_devices)"
   ]
  },
  {
   "cell_type": "code",
   "execution_count": null,
   "metadata": {},
   "outputs": [],
   "source": []
  }
 ],
 "metadata": {
  "kernelspec": {
   "display_name": "Python [conda env:py3]",
   "language": "python",
   "name": "conda-env-py3-py"
  },
  "language_info": {
   "codemirror_mode": {
    "name": "ipython",
    "version": 3
   },
   "file_extension": ".py",
   "mimetype": "text/x-python",
   "name": "python",
   "nbconvert_exporter": "python",
   "pygments_lexer": "ipython3",
   "version": "3.7.6"
  }
 },
 "nbformat": 4,
 "nbformat_minor": 4
}
